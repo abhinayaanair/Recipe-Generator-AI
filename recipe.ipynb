{
 "cells": [
  {
   "cell_type": "code",
   "execution_count": 1,
   "metadata": {},
   "outputs": [],
   "source": [
    "import pandas as pd"
   ]
  },
  {
   "cell_type": "code",
   "execution_count": 2,
   "metadata": {},
   "outputs": [],
   "source": [
    "df=pd.read_csv(\"Indian Recipe Dataset.csv\")"
   ]
  },
  {
   "cell_type": "code",
   "execution_count": 3,
   "metadata": {},
   "outputs": [
    {
     "data": {
      "text/html": [
       "<div>\n",
       "<style scoped>\n",
       "    .dataframe tbody tr th:only-of-type {\n",
       "        vertical-align: middle;\n",
       "    }\n",
       "\n",
       "    .dataframe tbody tr th {\n",
       "        vertical-align: top;\n",
       "    }\n",
       "\n",
       "    .dataframe thead th {\n",
       "        text-align: right;\n",
       "    }\n",
       "</style>\n",
       "<table border=\"1\" class=\"dataframe\">\n",
       "  <thead>\n",
       "    <tr style=\"text-align: right;\">\n",
       "      <th></th>\n",
       "      <th>text</th>\n",
       "    </tr>\n",
       "  </thead>\n",
       "  <tbody>\n",
       "    <tr>\n",
       "      <th>0</th>\n",
       "      <td>### TranslatedIngredients: 6 Karela (Bitter Go...</td>\n",
       "    </tr>\n",
       "    <tr>\n",
       "      <th>1</th>\n",
       "      <td>### TranslatedIngredients: 2-1 / 2 cups rice -...</td>\n",
       "    </tr>\n",
       "    <tr>\n",
       "      <th>2</th>\n",
       "      <td>### TranslatedIngredients: 1-1/2 cups Rice Ver...</td>\n",
       "    </tr>\n",
       "    <tr>\n",
       "      <th>3</th>\n",
       "      <td>### TranslatedIngredients: 500 grams Chicken,2...</td>\n",
       "    </tr>\n",
       "    <tr>\n",
       "      <th>4</th>\n",
       "      <td>### TranslatedIngredients: 1 tablespoon chana ...</td>\n",
       "    </tr>\n",
       "    <tr>\n",
       "      <th>...</th>\n",
       "      <td>...</td>\n",
       "    </tr>\n",
       "    <tr>\n",
       "      <th>6866</th>\n",
       "      <td>### TranslatedIngredients: 20 बटन मशरुम,2 प्या...</td>\n",
       "    </tr>\n",
       "    <tr>\n",
       "      <th>6867</th>\n",
       "      <td>### TranslatedIngredients: 1 बड़ा चम्मच तेल,1 क...</td>\n",
       "    </tr>\n",
       "    <tr>\n",
       "      <th>6868</th>\n",
       "      <td>### TranslatedIngredients: 150 grams Spring On...</td>\n",
       "    </tr>\n",
       "    <tr>\n",
       "      <th>6869</th>\n",
       "      <td>### TranslatedIngredients: 1 kg Chicken - medi...</td>\n",
       "    </tr>\n",
       "    <tr>\n",
       "      <th>6870</th>\n",
       "      <td>### TranslatedIngredients: 2 बड़े चम्मच हरी मूं...</td>\n",
       "    </tr>\n",
       "  </tbody>\n",
       "</table>\n",
       "<p>6871 rows × 1 columns</p>\n",
       "</div>"
      ],
      "text/plain": [
       "                                                   text\n",
       "0     ### TranslatedIngredients: 6 Karela (Bitter Go...\n",
       "1     ### TranslatedIngredients: 2-1 / 2 cups rice -...\n",
       "2     ### TranslatedIngredients: 1-1/2 cups Rice Ver...\n",
       "3     ### TranslatedIngredients: 500 grams Chicken,2...\n",
       "4     ### TranslatedIngredients: 1 tablespoon chana ...\n",
       "...                                                 ...\n",
       "6866  ### TranslatedIngredients: 20 बटन मशरुम,2 प्या...\n",
       "6867  ### TranslatedIngredients: 1 बड़ा चम्मच तेल,1 क...\n",
       "6868  ### TranslatedIngredients: 150 grams Spring On...\n",
       "6869  ### TranslatedIngredients: 1 kg Chicken - medi...\n",
       "6870  ### TranslatedIngredients: 2 बड़े चम्मच हरी मूं...\n",
       "\n",
       "[6871 rows x 1 columns]"
      ]
     },
     "execution_count": 3,
     "metadata": {},
     "output_type": "execute_result"
    }
   ],
   "source": [
    "df"
   ]
  },
  {
   "cell_type": "code",
   "execution_count": 4,
   "metadata": {},
   "outputs": [
    {
     "name": "stderr",
     "output_type": "stream",
     "text": [
      "C:\\Users\\abhin\\AppData\\Local\\Temp\\ipykernel_31740\\2032816477.py:18: FutureWarning: DataFrame.applymap has been deprecated. Use DataFrame.map instead.\n",
      "  df = result_df.applymap(lambda x: x.lower() if isinstance(x, str) else x)\n"
     ]
    }
   ],
   "source": [
    "def parse_text(row):\n",
    "    text = row\n",
    "    sections = [part.strip() for part in text.split(\"###\") if part.strip()]\n",
    "    parsed_data = {}\n",
    "    for section in sections:\n",
    "        if \": \" in section:\n",
    "            key, value = section.split(\": \", 1)\n",
    "            parsed_data[key] = value\n",
    "    return parsed_data\n",
    "\n",
    "# Apply the function to each row\n",
    "parsed_df = df[\"text\"].apply(parse_text)\n",
    "\n",
    "# Convert parsed data into a new DataFrame\n",
    "result_df = pd.DataFrame(parsed_df.tolist())\n",
    "\n",
    "\n",
    "df = result_df.applymap(lambda x: x.lower() if isinstance(x, str) else x)\n"
   ]
  },
  {
   "cell_type": "code",
   "execution_count": 5,
   "metadata": {},
   "outputs": [
    {
     "data": {
      "text/html": [
       "<div>\n",
       "<style scoped>\n",
       "    .dataframe tbody tr th:only-of-type {\n",
       "        vertical-align: middle;\n",
       "    }\n",
       "\n",
       "    .dataframe tbody tr th {\n",
       "        vertical-align: top;\n",
       "    }\n",
       "\n",
       "    .dataframe thead th {\n",
       "        text-align: right;\n",
       "    }\n",
       "</style>\n",
       "<table border=\"1\" class=\"dataframe\">\n",
       "  <thead>\n",
       "    <tr style=\"text-align: right;\">\n",
       "      <th></th>\n",
       "      <th>TranslatedIngredients</th>\n",
       "      <th>PrepTimeInMins</th>\n",
       "      <th>CookTimeInMins</th>\n",
       "      <th>TotalTimeInMins</th>\n",
       "      <th>Servings</th>\n",
       "      <th>Cuisine</th>\n",
       "      <th>Course</th>\n",
       "      <th>Diet</th>\n",
       "      <th>TranslatedInstructions</th>\n",
       "    </tr>\n",
       "  </thead>\n",
       "  <tbody>\n",
       "    <tr>\n",
       "      <th>0</th>\n",
       "      <td>6 karela (bitter gourd/ pavakkai) - deseeded,s...</td>\n",
       "      <td>15</td>\n",
       "      <td>30</td>\n",
       "      <td>45</td>\n",
       "      <td>6</td>\n",
       "      <td>indian</td>\n",
       "      <td>side dish</td>\n",
       "      <td>diabetic friendly</td>\n",
       "      <td>to begin making the masala karela recipe,de-se...</td>\n",
       "    </tr>\n",
       "    <tr>\n",
       "      <th>1</th>\n",
       "      <td>2-1 / 2 cups rice - cooked, 3 tomatoes, 3 teas...</td>\n",
       "      <td>5</td>\n",
       "      <td>10</td>\n",
       "      <td>15</td>\n",
       "      <td>3</td>\n",
       "      <td>south indian recipes</td>\n",
       "      <td>main course</td>\n",
       "      <td>vegetarian</td>\n",
       "      <td>to make tomato puliogere, first cut the tomato...</td>\n",
       "    </tr>\n",
       "    <tr>\n",
       "      <th>2</th>\n",
       "      <td>1-1/2 cups rice vermicelli noodles (thin),1 on...</td>\n",
       "      <td>20</td>\n",
       "      <td>30</td>\n",
       "      <td>50</td>\n",
       "      <td>4</td>\n",
       "      <td>south indian recipes</td>\n",
       "      <td>south indian breakfast</td>\n",
       "      <td>high protein vegetarian</td>\n",
       "      <td>to begin making the ragi vermicelli recipe, fi...</td>\n",
       "    </tr>\n",
       "    <tr>\n",
       "      <th>3</th>\n",
       "      <td>500 grams chicken,2 onion - chopped,1 tomato -...</td>\n",
       "      <td>15</td>\n",
       "      <td>30</td>\n",
       "      <td>45</td>\n",
       "      <td>4</td>\n",
       "      <td>andhra</td>\n",
       "      <td>lunch</td>\n",
       "      <td>non vegeterian</td>\n",
       "      <td>to begin making gongura chicken curry recipe f...</td>\n",
       "    </tr>\n",
       "    <tr>\n",
       "      <th>4</th>\n",
       "      <td>1 tablespoon chana dal, 1 tablespoon white ura...</td>\n",
       "      <td>10</td>\n",
       "      <td>20</td>\n",
       "      <td>30</td>\n",
       "      <td>4</td>\n",
       "      <td>andhra</td>\n",
       "      <td>south indian breakfast</td>\n",
       "      <td>vegetarian</td>\n",
       "      <td>to make andhra style alam pachadi, first heat ...</td>\n",
       "    </tr>\n",
       "    <tr>\n",
       "      <th>...</th>\n",
       "      <td>...</td>\n",
       "      <td>...</td>\n",
       "      <td>...</td>\n",
       "      <td>...</td>\n",
       "      <td>...</td>\n",
       "      <td>...</td>\n",
       "      <td>...</td>\n",
       "      <td>...</td>\n",
       "      <td>...</td>\n",
       "    </tr>\n",
       "    <tr>\n",
       "      <th>6866</th>\n",
       "      <td>20 बटन मशरुम,2 प्याज - काट ले,1 टमाटर - बारीक ...</td>\n",
       "      <td>15</td>\n",
       "      <td>45</td>\n",
       "      <td>60</td>\n",
       "      <td>4</td>\n",
       "      <td>goan recipes</td>\n",
       "      <td>lunch</td>\n",
       "      <td>vegetarian</td>\n",
       "      <td>गोअन मशरुम जकुटी रेसिपी बनाने के लिए सबसे पहले...</td>\n",
       "    </tr>\n",
       "    <tr>\n",
       "      <th>6867</th>\n",
       "      <td>1 बड़ा चम्मच तेल,1 कप गेहूं का आटा,नमक - स्वाद ...</td>\n",
       "      <td>30</td>\n",
       "      <td>60</td>\n",
       "      <td>90</td>\n",
       "      <td>4</td>\n",
       "      <td>north indian recipes</td>\n",
       "      <td>north indian breakfast</td>\n",
       "      <td>diabetic friendly</td>\n",
       "      <td>शकरकंदी और मेथी का पराठा रेसिपी बनाने के लिए स...</td>\n",
       "    </tr>\n",
       "    <tr>\n",
       "      <th>6868</th>\n",
       "      <td>150 grams spring onion (bulb &amp; greens) - chopp...</td>\n",
       "      <td>5</td>\n",
       "      <td>10</td>\n",
       "      <td>15</td>\n",
       "      <td>2</td>\n",
       "      <td>andhra</td>\n",
       "      <td>side dish</td>\n",
       "      <td>vegetarian</td>\n",
       "      <td>to begin making ullikadala pulusu recipe | spr...</td>\n",
       "    </tr>\n",
       "    <tr>\n",
       "      <th>6869</th>\n",
       "      <td>1 kg chicken - medium pieces,1/2 cup mustard o...</td>\n",
       "      <td>30</td>\n",
       "      <td>45</td>\n",
       "      <td>75</td>\n",
       "      <td>4</td>\n",
       "      <td>kashmiri</td>\n",
       "      <td>lunch</td>\n",
       "      <td>non vegeterian</td>\n",
       "      <td>to begin making the kashmiri kokur yakhni reci...</td>\n",
       "    </tr>\n",
       "    <tr>\n",
       "      <th>6870</th>\n",
       "      <td>2 बड़े चम्मच हरी मूंग दाल,2 बड़े चम्मच सफ़ेद उरद ...</td>\n",
       "      <td>10</td>\n",
       "      <td>30</td>\n",
       "      <td>40</td>\n",
       "      <td>4</td>\n",
       "      <td>north indian recipes</td>\n",
       "      <td>lunch</td>\n",
       "      <td>high protein vegetarian</td>\n",
       "      <td>नवरंग दाल रेसिपी  बनाने के लिए सबसे पहले सारी ...</td>\n",
       "    </tr>\n",
       "  </tbody>\n",
       "</table>\n",
       "<p>6871 rows × 9 columns</p>\n",
       "</div>"
      ],
      "text/plain": [
       "                                  TranslatedIngredients PrepTimeInMins  \\\n",
       "0     6 karela (bitter gourd/ pavakkai) - deseeded,s...             15   \n",
       "1     2-1 / 2 cups rice - cooked, 3 tomatoes, 3 teas...              5   \n",
       "2     1-1/2 cups rice vermicelli noodles (thin),1 on...             20   \n",
       "3     500 grams chicken,2 onion - chopped,1 tomato -...             15   \n",
       "4     1 tablespoon chana dal, 1 tablespoon white ura...             10   \n",
       "...                                                 ...            ...   \n",
       "6866  20 बटन मशरुम,2 प्याज - काट ले,1 टमाटर - बारीक ...             15   \n",
       "6867  1 बड़ा चम्मच तेल,1 कप गेहूं का आटा,नमक - स्वाद ...             30   \n",
       "6868  150 grams spring onion (bulb & greens) - chopp...              5   \n",
       "6869  1 kg chicken - medium pieces,1/2 cup mustard o...             30   \n",
       "6870  2 बड़े चम्मच हरी मूंग दाल,2 बड़े चम्मच सफ़ेद उरद ...             10   \n",
       "\n",
       "     CookTimeInMins TotalTimeInMins Servings               Cuisine  \\\n",
       "0                30              45        6                indian   \n",
       "1                10              15        3  south indian recipes   \n",
       "2                30              50        4  south indian recipes   \n",
       "3                30              45        4                andhra   \n",
       "4                20              30        4                andhra   \n",
       "...             ...             ...      ...                   ...   \n",
       "6866             45              60        4          goan recipes   \n",
       "6867             60              90        4  north indian recipes   \n",
       "6868             10              15        2                andhra   \n",
       "6869             45              75        4              kashmiri   \n",
       "6870             30              40        4  north indian recipes   \n",
       "\n",
       "                      Course                     Diet  \\\n",
       "0                  side dish        diabetic friendly   \n",
       "1                main course               vegetarian   \n",
       "2     south indian breakfast  high protein vegetarian   \n",
       "3                      lunch           non vegeterian   \n",
       "4     south indian breakfast               vegetarian   \n",
       "...                      ...                      ...   \n",
       "6866                   lunch               vegetarian   \n",
       "6867  north indian breakfast        diabetic friendly   \n",
       "6868               side dish               vegetarian   \n",
       "6869                   lunch           non vegeterian   \n",
       "6870                   lunch  high protein vegetarian   \n",
       "\n",
       "                                 TranslatedInstructions  \n",
       "0     to begin making the masala karela recipe,de-se...  \n",
       "1     to make tomato puliogere, first cut the tomato...  \n",
       "2     to begin making the ragi vermicelli recipe, fi...  \n",
       "3     to begin making gongura chicken curry recipe f...  \n",
       "4     to make andhra style alam pachadi, first heat ...  \n",
       "...                                                 ...  \n",
       "6866  गोअन मशरुम जकुटी रेसिपी बनाने के लिए सबसे पहले...  \n",
       "6867  शकरकंदी और मेथी का पराठा रेसिपी बनाने के लिए स...  \n",
       "6868  to begin making ullikadala pulusu recipe | spr...  \n",
       "6869  to begin making the kashmiri kokur yakhni reci...  \n",
       "6870  नवरंग दाल रेसिपी  बनाने के लिए सबसे पहले सारी ...  \n",
       "\n",
       "[6871 rows x 9 columns]"
      ]
     },
     "execution_count": 5,
     "metadata": {},
     "output_type": "execute_result"
    }
   ],
   "source": [
    "df"
   ]
  },
  {
   "cell_type": "code",
   "execution_count": 6,
   "metadata": {},
   "outputs": [],
   "source": [
    "\n",
    "\n",
    "# Create empty lists to store the input-output pairs\n",
    "input_texts = []\n",
    "output_texts = []\n",
    "\n",
    "# Iterate through the rows to generate input-output pairs\n",
    "for _, row in df.iterrows():\n",
    "    # Create the input text\n",
    "    input_text = f\"Ingredients: {row['TranslatedIngredients']}; Time: {row['PrepTimeInMins'] + row['CookTimeInMins']} mins; Cuisine: {row['Cuisine']}; Diet: {row['Diet']}\"\n",
    "    \n",
    "    # Create the output text\n",
    "    output_text = f\"Recipe Name: {row['Course']} Recipe; Instructions: {row['TranslatedInstructions']}; Servings: {row['Servings']}\"\n",
    "    \n",
    "    # Append to the lists\n",
    "    input_texts.append(input_text)\n",
    "    output_texts.append(output_text)\n",
    "\n",
    "# Add the input-output pairs to the DataFrame (optional)\n",
    "df['Input'] = input_texts\n",
    "df['Output'] = output_texts"
   ]
  },
  {
   "cell_type": "code",
   "execution_count": 7,
   "metadata": {},
   "outputs": [],
   "source": [
    "df.to_csv(\"recipe.csv\")"
   ]
  },
  {
   "cell_type": "code",
   "execution_count": 8,
   "metadata": {},
   "outputs": [
    {
     "data": {
      "text/html": [
       "<div>\n",
       "<style scoped>\n",
       "    .dataframe tbody tr th:only-of-type {\n",
       "        vertical-align: middle;\n",
       "    }\n",
       "\n",
       "    .dataframe tbody tr th {\n",
       "        vertical-align: top;\n",
       "    }\n",
       "\n",
       "    .dataframe thead th {\n",
       "        text-align: right;\n",
       "    }\n",
       "</style>\n",
       "<table border=\"1\" class=\"dataframe\">\n",
       "  <thead>\n",
       "    <tr style=\"text-align: right;\">\n",
       "      <th></th>\n",
       "      <th>TranslatedIngredients</th>\n",
       "      <th>PrepTimeInMins</th>\n",
       "      <th>CookTimeInMins</th>\n",
       "      <th>TotalTimeInMins</th>\n",
       "      <th>Servings</th>\n",
       "      <th>Cuisine</th>\n",
       "      <th>Course</th>\n",
       "      <th>Diet</th>\n",
       "      <th>TranslatedInstructions</th>\n",
       "      <th>Input</th>\n",
       "      <th>Output</th>\n",
       "    </tr>\n",
       "  </thead>\n",
       "  <tbody>\n",
       "    <tr>\n",
       "      <th>0</th>\n",
       "      <td>6 karela (bitter gourd/ pavakkai) - deseeded,s...</td>\n",
       "      <td>15</td>\n",
       "      <td>30</td>\n",
       "      <td>45</td>\n",
       "      <td>6</td>\n",
       "      <td>indian</td>\n",
       "      <td>side dish</td>\n",
       "      <td>diabetic friendly</td>\n",
       "      <td>to begin making the masala karela recipe,de-se...</td>\n",
       "      <td>Ingredients: 6 karela (bitter gourd/ pavakkai)...</td>\n",
       "      <td>Recipe Name: side dish Recipe; Instructions: t...</td>\n",
       "    </tr>\n",
       "    <tr>\n",
       "      <th>1</th>\n",
       "      <td>2-1 / 2 cups rice - cooked, 3 tomatoes, 3 teas...</td>\n",
       "      <td>5</td>\n",
       "      <td>10</td>\n",
       "      <td>15</td>\n",
       "      <td>3</td>\n",
       "      <td>south indian recipes</td>\n",
       "      <td>main course</td>\n",
       "      <td>vegetarian</td>\n",
       "      <td>to make tomato puliogere, first cut the tomato...</td>\n",
       "      <td>Ingredients: 2-1 / 2 cups rice - cooked, 3 tom...</td>\n",
       "      <td>Recipe Name: main course Recipe; Instructions:...</td>\n",
       "    </tr>\n",
       "    <tr>\n",
       "      <th>2</th>\n",
       "      <td>1-1/2 cups rice vermicelli noodles (thin),1 on...</td>\n",
       "      <td>20</td>\n",
       "      <td>30</td>\n",
       "      <td>50</td>\n",
       "      <td>4</td>\n",
       "      <td>south indian recipes</td>\n",
       "      <td>south indian breakfast</td>\n",
       "      <td>high protein vegetarian</td>\n",
       "      <td>to begin making the ragi vermicelli recipe, fi...</td>\n",
       "      <td>Ingredients: 1-1/2 cups rice vermicelli noodle...</td>\n",
       "      <td>Recipe Name: south indian breakfast Recipe; In...</td>\n",
       "    </tr>\n",
       "    <tr>\n",
       "      <th>3</th>\n",
       "      <td>500 grams chicken,2 onion - chopped,1 tomato -...</td>\n",
       "      <td>15</td>\n",
       "      <td>30</td>\n",
       "      <td>45</td>\n",
       "      <td>4</td>\n",
       "      <td>andhra</td>\n",
       "      <td>lunch</td>\n",
       "      <td>non vegeterian</td>\n",
       "      <td>to begin making gongura chicken curry recipe f...</td>\n",
       "      <td>Ingredients: 500 grams chicken,2 onion - chopp...</td>\n",
       "      <td>Recipe Name: lunch Recipe; Instructions: to be...</td>\n",
       "    </tr>\n",
       "    <tr>\n",
       "      <th>4</th>\n",
       "      <td>1 tablespoon chana dal, 1 tablespoon white ura...</td>\n",
       "      <td>10</td>\n",
       "      <td>20</td>\n",
       "      <td>30</td>\n",
       "      <td>4</td>\n",
       "      <td>andhra</td>\n",
       "      <td>south indian breakfast</td>\n",
       "      <td>vegetarian</td>\n",
       "      <td>to make andhra style alam pachadi, first heat ...</td>\n",
       "      <td>Ingredients: 1 tablespoon chana dal, 1 tablesp...</td>\n",
       "      <td>Recipe Name: south indian breakfast Recipe; In...</td>\n",
       "    </tr>\n",
       "    <tr>\n",
       "      <th>...</th>\n",
       "      <td>...</td>\n",
       "      <td>...</td>\n",
       "      <td>...</td>\n",
       "      <td>...</td>\n",
       "      <td>...</td>\n",
       "      <td>...</td>\n",
       "      <td>...</td>\n",
       "      <td>...</td>\n",
       "      <td>...</td>\n",
       "      <td>...</td>\n",
       "      <td>...</td>\n",
       "    </tr>\n",
       "    <tr>\n",
       "      <th>6866</th>\n",
       "      <td>20 बटन मशरुम,2 प्याज - काट ले,1 टमाटर - बारीक ...</td>\n",
       "      <td>15</td>\n",
       "      <td>45</td>\n",
       "      <td>60</td>\n",
       "      <td>4</td>\n",
       "      <td>goan recipes</td>\n",
       "      <td>lunch</td>\n",
       "      <td>vegetarian</td>\n",
       "      <td>गोअन मशरुम जकुटी रेसिपी बनाने के लिए सबसे पहले...</td>\n",
       "      <td>Ingredients: 20 बटन मशरुम,2 प्याज - काट ले,1 ट...</td>\n",
       "      <td>Recipe Name: lunch Recipe; Instructions: गोअन ...</td>\n",
       "    </tr>\n",
       "    <tr>\n",
       "      <th>6867</th>\n",
       "      <td>1 बड़ा चम्मच तेल,1 कप गेहूं का आटा,नमक - स्वाद ...</td>\n",
       "      <td>30</td>\n",
       "      <td>60</td>\n",
       "      <td>90</td>\n",
       "      <td>4</td>\n",
       "      <td>north indian recipes</td>\n",
       "      <td>north indian breakfast</td>\n",
       "      <td>diabetic friendly</td>\n",
       "      <td>शकरकंदी और मेथी का पराठा रेसिपी बनाने के लिए स...</td>\n",
       "      <td>Ingredients: 1 बड़ा चम्मच तेल,1 कप गेहूं का आटा...</td>\n",
       "      <td>Recipe Name: north indian breakfast Recipe; In...</td>\n",
       "    </tr>\n",
       "    <tr>\n",
       "      <th>6868</th>\n",
       "      <td>150 grams spring onion (bulb &amp; greens) - chopp...</td>\n",
       "      <td>5</td>\n",
       "      <td>10</td>\n",
       "      <td>15</td>\n",
       "      <td>2</td>\n",
       "      <td>andhra</td>\n",
       "      <td>side dish</td>\n",
       "      <td>vegetarian</td>\n",
       "      <td>to begin making ullikadala pulusu recipe | spr...</td>\n",
       "      <td>Ingredients: 150 grams spring onion (bulb &amp; gr...</td>\n",
       "      <td>Recipe Name: side dish Recipe; Instructions: t...</td>\n",
       "    </tr>\n",
       "    <tr>\n",
       "      <th>6869</th>\n",
       "      <td>1 kg chicken - medium pieces,1/2 cup mustard o...</td>\n",
       "      <td>30</td>\n",
       "      <td>45</td>\n",
       "      <td>75</td>\n",
       "      <td>4</td>\n",
       "      <td>kashmiri</td>\n",
       "      <td>lunch</td>\n",
       "      <td>non vegeterian</td>\n",
       "      <td>to begin making the kashmiri kokur yakhni reci...</td>\n",
       "      <td>Ingredients: 1 kg chicken - medium pieces,1/2 ...</td>\n",
       "      <td>Recipe Name: lunch Recipe; Instructions: to be...</td>\n",
       "    </tr>\n",
       "    <tr>\n",
       "      <th>6870</th>\n",
       "      <td>2 बड़े चम्मच हरी मूंग दाल,2 बड़े चम्मच सफ़ेद उरद ...</td>\n",
       "      <td>10</td>\n",
       "      <td>30</td>\n",
       "      <td>40</td>\n",
       "      <td>4</td>\n",
       "      <td>north indian recipes</td>\n",
       "      <td>lunch</td>\n",
       "      <td>high protein vegetarian</td>\n",
       "      <td>नवरंग दाल रेसिपी  बनाने के लिए सबसे पहले सारी ...</td>\n",
       "      <td>Ingredients: 2 बड़े चम्मच हरी मूंग दाल,2 बड़े चम...</td>\n",
       "      <td>Recipe Name: lunch Recipe; Instructions: नवरंग...</td>\n",
       "    </tr>\n",
       "  </tbody>\n",
       "</table>\n",
       "<p>6871 rows × 11 columns</p>\n",
       "</div>"
      ],
      "text/plain": [
       "                                  TranslatedIngredients PrepTimeInMins  \\\n",
       "0     6 karela (bitter gourd/ pavakkai) - deseeded,s...             15   \n",
       "1     2-1 / 2 cups rice - cooked, 3 tomatoes, 3 teas...              5   \n",
       "2     1-1/2 cups rice vermicelli noodles (thin),1 on...             20   \n",
       "3     500 grams chicken,2 onion - chopped,1 tomato -...             15   \n",
       "4     1 tablespoon chana dal, 1 tablespoon white ura...             10   \n",
       "...                                                 ...            ...   \n",
       "6866  20 बटन मशरुम,2 प्याज - काट ले,1 टमाटर - बारीक ...             15   \n",
       "6867  1 बड़ा चम्मच तेल,1 कप गेहूं का आटा,नमक - स्वाद ...             30   \n",
       "6868  150 grams spring onion (bulb & greens) - chopp...              5   \n",
       "6869  1 kg chicken - medium pieces,1/2 cup mustard o...             30   \n",
       "6870  2 बड़े चम्मच हरी मूंग दाल,2 बड़े चम्मच सफ़ेद उरद ...             10   \n",
       "\n",
       "     CookTimeInMins TotalTimeInMins Servings               Cuisine  \\\n",
       "0                30              45        6                indian   \n",
       "1                10              15        3  south indian recipes   \n",
       "2                30              50        4  south indian recipes   \n",
       "3                30              45        4                andhra   \n",
       "4                20              30        4                andhra   \n",
       "...             ...             ...      ...                   ...   \n",
       "6866             45              60        4          goan recipes   \n",
       "6867             60              90        4  north indian recipes   \n",
       "6868             10              15        2                andhra   \n",
       "6869             45              75        4              kashmiri   \n",
       "6870             30              40        4  north indian recipes   \n",
       "\n",
       "                      Course                     Diet  \\\n",
       "0                  side dish        diabetic friendly   \n",
       "1                main course               vegetarian   \n",
       "2     south indian breakfast  high protein vegetarian   \n",
       "3                      lunch           non vegeterian   \n",
       "4     south indian breakfast               vegetarian   \n",
       "...                      ...                      ...   \n",
       "6866                   lunch               vegetarian   \n",
       "6867  north indian breakfast        diabetic friendly   \n",
       "6868               side dish               vegetarian   \n",
       "6869                   lunch           non vegeterian   \n",
       "6870                   lunch  high protein vegetarian   \n",
       "\n",
       "                                 TranslatedInstructions  \\\n",
       "0     to begin making the masala karela recipe,de-se...   \n",
       "1     to make tomato puliogere, first cut the tomato...   \n",
       "2     to begin making the ragi vermicelli recipe, fi...   \n",
       "3     to begin making gongura chicken curry recipe f...   \n",
       "4     to make andhra style alam pachadi, first heat ...   \n",
       "...                                                 ...   \n",
       "6866  गोअन मशरुम जकुटी रेसिपी बनाने के लिए सबसे पहले...   \n",
       "6867  शकरकंदी और मेथी का पराठा रेसिपी बनाने के लिए स...   \n",
       "6868  to begin making ullikadala pulusu recipe | spr...   \n",
       "6869  to begin making the kashmiri kokur yakhni reci...   \n",
       "6870  नवरंग दाल रेसिपी  बनाने के लिए सबसे पहले सारी ...   \n",
       "\n",
       "                                                  Input  \\\n",
       "0     Ingredients: 6 karela (bitter gourd/ pavakkai)...   \n",
       "1     Ingredients: 2-1 / 2 cups rice - cooked, 3 tom...   \n",
       "2     Ingredients: 1-1/2 cups rice vermicelli noodle...   \n",
       "3     Ingredients: 500 grams chicken,2 onion - chopp...   \n",
       "4     Ingredients: 1 tablespoon chana dal, 1 tablesp...   \n",
       "...                                                 ...   \n",
       "6866  Ingredients: 20 बटन मशरुम,2 प्याज - काट ले,1 ट...   \n",
       "6867  Ingredients: 1 बड़ा चम्मच तेल,1 कप गेहूं का आटा...   \n",
       "6868  Ingredients: 150 grams spring onion (bulb & gr...   \n",
       "6869  Ingredients: 1 kg chicken - medium pieces,1/2 ...   \n",
       "6870  Ingredients: 2 बड़े चम्मच हरी मूंग दाल,2 बड़े चम...   \n",
       "\n",
       "                                                 Output  \n",
       "0     Recipe Name: side dish Recipe; Instructions: t...  \n",
       "1     Recipe Name: main course Recipe; Instructions:...  \n",
       "2     Recipe Name: south indian breakfast Recipe; In...  \n",
       "3     Recipe Name: lunch Recipe; Instructions: to be...  \n",
       "4     Recipe Name: south indian breakfast Recipe; In...  \n",
       "...                                                 ...  \n",
       "6866  Recipe Name: lunch Recipe; Instructions: गोअन ...  \n",
       "6867  Recipe Name: north indian breakfast Recipe; In...  \n",
       "6868  Recipe Name: side dish Recipe; Instructions: t...  \n",
       "6869  Recipe Name: lunch Recipe; Instructions: to be...  \n",
       "6870  Recipe Name: lunch Recipe; Instructions: नवरंग...  \n",
       "\n",
       "[6871 rows x 11 columns]"
      ]
     },
     "execution_count": 8,
     "metadata": {},
     "output_type": "execute_result"
    }
   ],
   "source": [
    "df"
   ]
  },
  {
   "cell_type": "code",
   "execution_count": 9,
   "metadata": {},
   "outputs": [],
   "source": [
    "recipe_df=df[['Input','Output']]"
   ]
  },
  {
   "cell_type": "code",
   "execution_count": 21,
   "metadata": {},
   "outputs": [
    {
     "data": {
      "text/html": [
       "<div>\n",
       "<style scoped>\n",
       "    .dataframe tbody tr th:only-of-type {\n",
       "        vertical-align: middle;\n",
       "    }\n",
       "\n",
       "    .dataframe tbody tr th {\n",
       "        vertical-align: top;\n",
       "    }\n",
       "\n",
       "    .dataframe thead th {\n",
       "        text-align: right;\n",
       "    }\n",
       "</style>\n",
       "<table border=\"1\" class=\"dataframe\">\n",
       "  <thead>\n",
       "    <tr style=\"text-align: right;\">\n",
       "      <th></th>\n",
       "      <th>Input</th>\n",
       "      <th>Output</th>\n",
       "    </tr>\n",
       "  </thead>\n",
       "  <tbody>\n",
       "    <tr>\n",
       "      <th>0</th>\n",
       "      <td>Ingredients: 6 karela (bitter gourd/ pavakkai)...</td>\n",
       "      <td>Recipe Name: side dish Recipe; Instructions: t...</td>\n",
       "    </tr>\n",
       "    <tr>\n",
       "      <th>1</th>\n",
       "      <td>Ingredients: 2-1 / 2 cups rice - cooked, 3 tom...</td>\n",
       "      <td>Recipe Name: main course Recipe; Instructions:...</td>\n",
       "    </tr>\n",
       "    <tr>\n",
       "      <th>2</th>\n",
       "      <td>Ingredients: 1-1/2 cups rice vermicelli noodle...</td>\n",
       "      <td>Recipe Name: south indian breakfast Recipe; In...</td>\n",
       "    </tr>\n",
       "    <tr>\n",
       "      <th>3</th>\n",
       "      <td>Ingredients: 500 grams chicken,2 onion - chopp...</td>\n",
       "      <td>Recipe Name: lunch Recipe; Instructions: to be...</td>\n",
       "    </tr>\n",
       "    <tr>\n",
       "      <th>4</th>\n",
       "      <td>Ingredients: 1 tablespoon chana dal, 1 tablesp...</td>\n",
       "      <td>Recipe Name: south indian breakfast Recipe; In...</td>\n",
       "    </tr>\n",
       "    <tr>\n",
       "      <th>...</th>\n",
       "      <td>...</td>\n",
       "      <td>...</td>\n",
       "    </tr>\n",
       "    <tr>\n",
       "      <th>6866</th>\n",
       "      <td>Ingredients: 20 बटन मशरुम,2 प्याज - काट ले,1 ट...</td>\n",
       "      <td>Recipe Name: lunch Recipe; Instructions: गोअन ...</td>\n",
       "    </tr>\n",
       "    <tr>\n",
       "      <th>6867</th>\n",
       "      <td>Ingredients: 1 बड़ा चम्मच तेल,1 कप गेहूं का आटा...</td>\n",
       "      <td>Recipe Name: north indian breakfast Recipe; In...</td>\n",
       "    </tr>\n",
       "    <tr>\n",
       "      <th>6868</th>\n",
       "      <td>Ingredients: 150 grams spring onion (bulb &amp; gr...</td>\n",
       "      <td>Recipe Name: side dish Recipe; Instructions: t...</td>\n",
       "    </tr>\n",
       "    <tr>\n",
       "      <th>6869</th>\n",
       "      <td>Ingredients: 1 kg chicken - medium pieces,1/2 ...</td>\n",
       "      <td>Recipe Name: lunch Recipe; Instructions: to be...</td>\n",
       "    </tr>\n",
       "    <tr>\n",
       "      <th>6870</th>\n",
       "      <td>Ingredients: 2 बड़े चम्मच हरी मूंग दाल,2 बड़े चम...</td>\n",
       "      <td>Recipe Name: lunch Recipe; Instructions: नवरंग...</td>\n",
       "    </tr>\n",
       "  </tbody>\n",
       "</table>\n",
       "<p>6871 rows × 2 columns</p>\n",
       "</div>"
      ],
      "text/plain": [
       "                                                  Input  \\\n",
       "0     Ingredients: 6 karela (bitter gourd/ pavakkai)...   \n",
       "1     Ingredients: 2-1 / 2 cups rice - cooked, 3 tom...   \n",
       "2     Ingredients: 1-1/2 cups rice vermicelli noodle...   \n",
       "3     Ingredients: 500 grams chicken,2 onion - chopp...   \n",
       "4     Ingredients: 1 tablespoon chana dal, 1 tablesp...   \n",
       "...                                                 ...   \n",
       "6866  Ingredients: 20 बटन मशरुम,2 प्याज - काट ले,1 ट...   \n",
       "6867  Ingredients: 1 बड़ा चम्मच तेल,1 कप गेहूं का आटा...   \n",
       "6868  Ingredients: 150 grams spring onion (bulb & gr...   \n",
       "6869  Ingredients: 1 kg chicken - medium pieces,1/2 ...   \n",
       "6870  Ingredients: 2 बड़े चम्मच हरी मूंग दाल,2 बड़े चम...   \n",
       "\n",
       "                                                 Output  \n",
       "0     Recipe Name: side dish Recipe; Instructions: t...  \n",
       "1     Recipe Name: main course Recipe; Instructions:...  \n",
       "2     Recipe Name: south indian breakfast Recipe; In...  \n",
       "3     Recipe Name: lunch Recipe; Instructions: to be...  \n",
       "4     Recipe Name: south indian breakfast Recipe; In...  \n",
       "...                                                 ...  \n",
       "6866  Recipe Name: lunch Recipe; Instructions: गोअन ...  \n",
       "6867  Recipe Name: north indian breakfast Recipe; In...  \n",
       "6868  Recipe Name: side dish Recipe; Instructions: t...  \n",
       "6869  Recipe Name: lunch Recipe; Instructions: to be...  \n",
       "6870  Recipe Name: lunch Recipe; Instructions: नवरंग...  \n",
       "\n",
       "[6871 rows x 2 columns]"
      ]
     },
     "execution_count": 21,
     "metadata": {},
     "output_type": "execute_result"
    }
   ],
   "source": [
    "recipe_df"
   ]
  },
  {
   "cell_type": "markdown",
   "metadata": {},
   "source": [
    "# DATA PREPROCESSING"
   ]
  },
  {
   "cell_type": "code",
   "execution_count": 11,
   "metadata": {},
   "outputs": [
    {
     "name": "stderr",
     "output_type": "stream",
     "text": [
      "c:\\Users\\abhin\\Desktop\\AI 30 DAYS\\Recipe Generator\\recipeenv\\lib\\site-packages\\tqdm\\auto.py:21: TqdmWarning: IProgress not found. Please update jupyter and ipywidgets. See https://ipywidgets.readthedocs.io/en/stable/user_install.html\n",
      "  from .autonotebook import tqdm as notebook_tqdm\n"
     ]
    }
   ],
   "source": [
    "from transformers import T5Tokenizer, T5ForConditionalGeneration, Trainer, TrainingArguments\n",
    "from datasets import Dataset\n",
    "from torch.optim import AdamW"
   ]
  },
  {
   "cell_type": "code",
   "execution_count": 12,
   "metadata": {},
   "outputs": [],
   "source": [
    "# Load tokenizer and model from the checkpoint (not from \"t5-small\")\n",
    "checkpoint_path = './results/checkpoint-1374'"
   ]
  },
  {
   "cell_type": "code",
   "execution_count": 13,
   "metadata": {},
   "outputs": [],
   "source": [
    "tokenizer = T5Tokenizer.from_pretrained(checkpoint_path)\n",
    "model = T5ForConditionalGeneration.from_pretrained(checkpoint_path)\n"
   ]
  },
  {
   "cell_type": "code",
   "execution_count": 14,
   "metadata": {},
   "outputs": [],
   "source": [
    "# Create Dataset for Hugging Face\n",
    "data = {'Input': input_texts, 'Output': output_texts}\n",
    "dataset = Dataset.from_dict(data)"
   ]
  },
  {
   "cell_type": "code",
   "execution_count": 15,
   "metadata": {},
   "outputs": [
    {
     "name": "stderr",
     "output_type": "stream",
     "text": [
      "Map: 100%|██████████| 6871/6871 [00:09<00:00, 741.70 examples/s]\n"
     ]
    }
   ],
   "source": [
    "# Tokenize the dataset\n",
    "def tokenize_function(examples):\n",
    "    input_encodings = tokenizer(examples['Input'], padding='max_length', truncation=True, max_length=512)\n",
    "    output_encodings = tokenizer(examples['Output'], padding='max_length', truncation=True, max_length=512)\n",
    "    \n",
    "    return {\n",
    "        'input_ids': input_encodings['input_ids'],\n",
    "        'attention_mask': input_encodings['attention_mask'],\n",
    "        'labels': output_encodings['input_ids'],\n",
    "    }\n",
    "\n",
    "# Tokenize the dataset\n",
    "tokenized_datasets = dataset.map(tokenize_function, batched=True)\n",
    "\n"
   ]
  },
  {
   "cell_type": "code",
   "execution_count": 16,
   "metadata": {},
   "outputs": [],
   "source": [
    "# Split the dataset into train and eval datasets (80% train, 20% eval)\n",
    "train_test_split = tokenized_datasets.train_test_split(test_size=0.2)\n",
    "train_dataset = train_test_split['train']\n",
    "eval_dataset = train_test_split['test']\n"
   ]
  },
  {
   "cell_type": "code",
   "execution_count": 17,
   "metadata": {},
   "outputs": [],
   "source": [
    "# Subclass Trainer to customize the optimizer\n",
    "class CustomTrainer(Trainer):\n",
    "    def create_optimizer(self):\n",
    "        \"\"\"\n",
    "        Override the default optimizer creation method to use AdamW.\n",
    "        \"\"\"\n",
    "        optimizer = AdamW(\n",
    "            self.model.parameters(),\n",
    "            lr=self.args.learning_rate,\n",
    "            weight_decay=self.args.weight_decay,\n",
    "        )\n",
    "        self.optimizer = optimizer\n",
    "        return self.optimizer\n"
   ]
  },
  {
   "cell_type": "code",
   "execution_count": 18,
   "metadata": {},
   "outputs": [
    {
     "name": "stderr",
     "output_type": "stream",
     "text": [
      "c:\\Users\\abhin\\Desktop\\AI 30 DAYS\\Recipe Generator\\recipeenv\\lib\\site-packages\\transformers\\training_args.py:1575: FutureWarning: `evaluation_strategy` is deprecated and will be removed in version 4.46 of 🤗 Transformers. Use `eval_strategy` instead\n",
      "  warnings.warn(\n"
     ]
    }
   ],
   "source": [
    "model = model.to('cuda')\n",
    "\n",
    "# Define training arguments\n",
    "training_args = TrainingArguments(\n",
    "    output_dir='./results',\n",
    "    evaluation_strategy=\"epoch\",\n",
    "    learning_rate=5e-5,\n",
    "    per_device_train_batch_size=8,\n",
    "    per_device_eval_batch_size=8,\n",
    "    num_train_epochs=3,\n",
    "    weight_decay=0.01,\n",
    "    save_strategy=\"epoch\",\n",
    "    logging_dir='./logs',\n",
    "    logging_steps=100,\n",
    ")"
   ]
  },
  {
   "cell_type": "code",
   "execution_count": 19,
   "metadata": {},
   "outputs": [
    {
     "name": "stderr",
     "output_type": "stream",
     "text": [
      "C:\\Users\\abhin\\AppData\\Local\\Temp\\ipykernel_31740\\1493928601.py:2: FutureWarning: `tokenizer` is deprecated and will be removed in version 5.0.0 for `CustomTrainer.__init__`. Use `processing_class` instead.\n",
      "  trainer = CustomTrainer(\n"
     ]
    }
   ],
   "source": [
    "# Use the custom trainer with AdamW\n",
    "trainer = CustomTrainer(\n",
    "    model=model,\n",
    "    args=training_args,\n",
    "    train_dataset=train_dataset,\n",
    "    eval_dataset=eval_dataset,\n",
    "    tokenizer=tokenizer,\n",
    ")"
   ]
  },
  {
   "cell_type": "code",
   "execution_count": 20,
   "metadata": {},
   "outputs": [
    {
     "name": "stderr",
     "output_type": "stream",
     "text": [
      "There were missing keys in the checkpoint model loaded: ['encoder.embed_tokens.weight', 'decoder.embed_tokens.weight', 'lm_head.weight'].\n",
      "c:\\Users\\abhin\\Desktop\\AI 30 DAYS\\Recipe Generator\\recipeenv\\lib\\site-packages\\transformers\\trainer.py:3420: FutureWarning: You are using `torch.load` with `weights_only=False` (the current default value), which uses the default pickle module implicitly. It is possible to construct malicious pickle data which will execute arbitrary code during unpickling (See https://github.com/pytorch/pytorch/blob/main/SECURITY.md#untrusted-models for more details). In a future release, the default value for `weights_only` will be flipped to `True`. This limits the functions that could be executed during unpickling. Arbitrary objects will no longer be allowed to be loaded via this mode unless they are explicitly allowlisted by the user via `torch.serialization.add_safe_globals`. We recommend you start setting `weights_only=True` for any use case where you don't have full control of the loaded file. Please open an issue on GitHub for any issues related to this experimental feature.\n",
      "  torch.load(os.path.join(checkpoint, OPTIMIZER_NAME), map_location=map_location)\n",
      "  0%|          | 0/2061 [00:00<?, ?it/s]c:\\Users\\abhin\\Desktop\\AI 30 DAYS\\Recipe Generator\\recipeenv\\lib\\site-packages\\transformers\\trainer.py:3083: FutureWarning: You are using `torch.load` with `weights_only=False` (the current default value), which uses the default pickle module implicitly. It is possible to construct malicious pickle data which will execute arbitrary code during unpickling (See https://github.com/pytorch/pytorch/blob/main/SECURITY.md#untrusted-models for more details). In a future release, the default value for `weights_only` will be flipped to `True`. This limits the functions that could be executed during unpickling. Arbitrary objects will no longer be allowed to be loaded via this mode unless they are explicitly allowlisted by the user via `torch.serialization.add_safe_globals`. We recommend you start setting `weights_only=True` for any use case where you don't have full control of the loaded file. Please open an issue on GitHub for any issues related to this experimental feature.\n",
      "  checkpoint_rng_state = torch.load(rng_file)\n",
      "Passing a tuple of `past_key_values` is deprecated and will be removed in Transformers v4.48.0. You should pass an instance of `EncoderDecoderCache` instead, e.g. `past_key_values=EncoderDecoderCache.from_legacy_cache(past_key_values)`.\n",
      " 68%|██████▊   | 1400/2061 [01:35<05:11,  2.12it/s] "
     ]
    },
    {
     "name": "stdout",
     "output_type": "stream",
     "text": [
      "{'loss': 1.6009, 'grad_norm': 0.6635178923606873, 'learning_rate': 1.603590490053372e-05, 'epoch': 2.04}\n"
     ]
    },
    {
     "name": "stderr",
     "output_type": "stream",
     "text": [
      " 73%|███████▎  | 1500/2061 [07:40<33:57,  3.63s/it]"
     ]
    },
    {
     "name": "stdout",
     "output_type": "stream",
     "text": [
      "{'loss': 1.5683, 'grad_norm': 0.5967133045196533, 'learning_rate': 1.3609898107714703e-05, 'epoch': 2.18}\n"
     ]
    },
    {
     "name": "stderr",
     "output_type": "stream",
     "text": [
      " 78%|███████▊  | 1600/2061 [13:47<27:46,  3.61s/it]"
     ]
    },
    {
     "name": "stdout",
     "output_type": "stream",
     "text": [
      "{'loss': 1.5441, 'grad_norm': 1.2870875597000122, 'learning_rate': 1.1183891314895683e-05, 'epoch': 2.33}\n"
     ]
    },
    {
     "name": "stderr",
     "output_type": "stream",
     "text": [
      " 82%|████████▏ | 1700/2061 [19:54<21:47,  3.62s/it]"
     ]
    },
    {
     "name": "stdout",
     "output_type": "stream",
     "text": [
      "{'loss': 1.5891, 'grad_norm': 0.5602926015853882, 'learning_rate': 8.757884522076662e-06, 'epoch': 2.47}\n"
     ]
    },
    {
     "name": "stderr",
     "output_type": "stream",
     "text": [
      " 87%|████████▋ | 1800/2061 [25:55<15:47,  3.63s/it]"
     ]
    },
    {
     "name": "stdout",
     "output_type": "stream",
     "text": [
      "{'loss': 1.5901, 'grad_norm': 0.5525727272033691, 'learning_rate': 6.3318777292576415e-06, 'epoch': 2.62}\n"
     ]
    },
    {
     "name": "stderr",
     "output_type": "stream",
     "text": [
      " 92%|█████████▏| 1900/2061 [31:57<09:40,  3.61s/it]"
     ]
    },
    {
     "name": "stdout",
     "output_type": "stream",
     "text": [
      "{'loss': 1.6074, 'grad_norm': 0.43832340836524963, 'learning_rate': 3.905870936438622e-06, 'epoch': 2.77}\n"
     ]
    },
    {
     "name": "stderr",
     "output_type": "stream",
     "text": [
      " 97%|█████████▋| 2000/2061 [37:57<04:02,  3.98s/it]"
     ]
    },
    {
     "name": "stdout",
     "output_type": "stream",
     "text": [
      "{'loss': 1.611, 'grad_norm': 0.4432830214500427, 'learning_rate': 1.4798641436196021e-06, 'epoch': 2.91}\n"
     ]
    },
    {
     "name": "stderr",
     "output_type": "stream",
     "text": [
      "                                                   \n",
      "100%|██████████| 2061/2061 [43:33<00:00,  3.65s/it]"
     ]
    },
    {
     "name": "stdout",
     "output_type": "stream",
     "text": [
      "{'eval_loss': 1.4431242942810059, 'eval_runtime': 109.8543, 'eval_samples_per_second': 12.517, 'eval_steps_per_second': 1.566, 'epoch': 3.0}\n"
     ]
    },
    {
     "name": "stderr",
     "output_type": "stream",
     "text": [
      "100%|██████████| 2061/2061 [43:35<00:00,  1.27s/it]"
     ]
    },
    {
     "name": "stdout",
     "output_type": "stream",
     "text": [
      "{'train_runtime': 2615.314, 'train_samples_per_second': 6.304, 'train_steps_per_second': 0.788, 'train_loss': 0.5302758270071178, 'epoch': 3.0}\n"
     ]
    },
    {
     "name": "stderr",
     "output_type": "stream",
     "text": [
      "\n"
     ]
    },
    {
     "data": {
      "text/plain": [
       "TrainOutput(global_step=2061, training_loss=0.5302758270071178, metrics={'train_runtime': 2615.314, 'train_samples_per_second': 6.304, 'train_steps_per_second': 0.788, 'total_flos': 2231515622670336.0, 'train_loss': 0.5302758270071178, 'epoch': 3.0})"
      ]
     },
     "execution_count": 20,
     "metadata": {},
     "output_type": "execute_result"
    }
   ],
   "source": [
    "# Resume training from checkpoint-687\n",
    "trainer.train(resume_from_checkpoint='./results/checkpoint-1374')"
   ]
  },
  {
   "cell_type": "code",
   "execution_count": 23,
   "metadata": {},
   "outputs": [
    {
     "data": {
      "text/plain": [
       "'Ingredients: 6 karela (bitter gourd/ pavakkai) - deseeded,salt - to taste,1 onion - thinly sliced,3 tablespoon gram flour (besan),2 teaspoons turmeric powder (haldi),1 tablespoon red chilli powder,2 teaspoons cumin seeds (jeera),1 tablespoon coriander powder (dhania),1 tablespoon amchur (dry mango powder),sunflower oil - as required; Time: 1530 mins; Cuisine: indian; Diet: diabetic friendly'"
      ]
     },
     "execution_count": 23,
     "metadata": {},
     "output_type": "execute_result"
    }
   ],
   "source": [
    "recipe_df['Input'][0]"
   ]
  },
  {
   "cell_type": "code",
   "execution_count": null,
   "metadata": {},
   "outputs": [],
   "source": []
  }
 ],
 "metadata": {
  "kernelspec": {
   "display_name": "recipeenv",
   "language": "python",
   "name": "python3"
  },
  "language_info": {
   "codemirror_mode": {
    "name": "ipython",
    "version": 3
   },
   "file_extension": ".py",
   "mimetype": "text/x-python",
   "name": "python",
   "nbconvert_exporter": "python",
   "pygments_lexer": "ipython3",
   "version": "3.10.16"
  }
 },
 "nbformat": 4,
 "nbformat_minor": 2
}
