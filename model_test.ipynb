{
 "cells": [
  {
   "cell_type": "code",
   "execution_count": 14,
   "metadata": {},
   "outputs": [],
   "source": [
    "from transformers import T5Tokenizer, T5ForConditionalGeneration\n",
    "\n",
    "# Load tokenizer and model from the checkpoint\n",
    "checkpoint = \"./results/checkpoint-2061\"\n",
    "tokenizer = T5Tokenizer.from_pretrained(checkpoint)\n",
    "model = T5ForConditionalGeneration.from_pretrained(checkpoint)\n",
    "model = model.to(\"cuda\")  # Move the model to GPU if available\n"
   ]
  },
  {
   "cell_type": "code",
   "execution_count": 17,
   "metadata": {},
   "outputs": [
    {
     "name": "stdout",
     "output_type": "stream",
     "text": [
      "Generated Recipe:\n",
      "Recipe Name: south indian breakfast Recipe; Instructions: to begin making the vermicelli noodles recipe, firstly heat a pan and cook for about 10 minutes.in a large mixing bowl, add carrots, green peas, green chillies, asafoetida, mustard seeds, white urad dal, curry leaves, salt and lemon juice.once done, turn off the heat and allow it to cool down.heat a heavy bottomed pan with ghee and saute until the vegetables are cooked.add the rice vermicelli noodles and mix well.serve the vermicelli noodles along with hing or phulka naya chutney on a low flame. serve the vermicelli noodles recipe along with rhubanese thin sauce.; Servings: 4\n"
     ]
    }
   ],
   "source": [
    "\n",
    "\n",
    "input_text = (\n",
    " \"Ingredients: 1-1/2 cups rice vermicelli noodles (thin),1 onion - sliced,1/2 cup carrots (gajjar) - chopped,1/3 cup green peas (matar),2 green chillies,1/4 teaspoon asafoetida (hing),1 teaspoon mustard seeds,1 teaspoon white urad dal (split),1 teaspoon ghee,1 sprig curry leaves,salt - to taste,1 teaspoon lemon juice; Time: 2030 mins; Cuisine: south indian recipes; Diet: high protein vegetarian\"\n",
    "\n",
    ")\n",
    "\n",
    "inputs = tokenizer(input_text, return_tensors=\"pt\", padding=True, truncation=True).to(\"cuda\")\n",
    "\n",
    "outputs = model.generate(\n",
    "    inputs[\"input_ids\"],\n",
    "    max_length=600,  # Ensure the output is long enough to capture full recipes\n",
    "    num_beams=3,  # Beam search for better exploration\n",
    "    temperature=0.7,  # Control randomness\n",
    "    top_k=50,  # Limit search to top k tokens\n",
    "    top_p=0.9,  # Nucleus sampling\n",
    "    repetition_penalty=2.5,  # Penalize repetition\n",
    "    early_stopping=True,\n",
    ")\n",
    "generated_recipe = tokenizer.decode(outputs[0], skip_special_tokens=True)\n",
    "print(\"Generated Recipe:\")\n",
    "print(generated_recipe)\n"
   ]
  },
  {
   "cell_type": "code",
   "execution_count": null,
   "metadata": {},
   "outputs": [],
   "source": []
  },
  {
   "cell_type": "code",
   "execution_count": null,
   "metadata": {},
   "outputs": [],
   "source": []
  }
 ],
 "metadata": {
  "kernelspec": {
   "display_name": "recipeenv",
   "language": "python",
   "name": "python3"
  },
  "language_info": {
   "codemirror_mode": {
    "name": "ipython",
    "version": 3
   },
   "file_extension": ".py",
   "mimetype": "text/x-python",
   "name": "python",
   "nbconvert_exporter": "python",
   "pygments_lexer": "ipython3",
   "version": "3.10.16"
  }
 },
 "nbformat": 4,
 "nbformat_minor": 2
}
